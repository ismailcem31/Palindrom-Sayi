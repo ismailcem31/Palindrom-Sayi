{
 "cells": [
  {
   "cell_type": "markdown",
   "id": "77dede5f",
   "metadata": {},
   "source": [
    "Palindrom, tersten okunuşu da aynı olan cümle, sözcük ve sayılara denilmektedir."
   ]
  },
  {
   "cell_type": "code",
   "execution_count": null,
   "id": "d8de40fb",
   "metadata": {},
   "outputs": [],
   "source": [
    "def is_palindrome(s):\n",
    "    if s.isdigit():\n",
    "        s = str(s)\n",
    "    s = s.lower()\n",
    "    s = s.replace(\" \", \"\")\n",
    "    return s == s[::-1]\n",
    " \n",
    "input_ = input(\"Bir sayı, kelime veya cümle giriniz: \")\n",
    "if is_palindrome(input_):\n",
    "    print(\"Girilen değer bir Palindrome.\")\n",
    "else:\n",
    "    print(\"Girilen değer bir Palindrome değil.\")"
   ]
  }
 ],
 "metadata": {
  "kernelspec": {
   "display_name": "Python 3 (ipykernel)",
   "language": "python",
   "name": "python3"
  },
  "language_info": {
   "codemirror_mode": {
    "name": "ipython",
    "version": 3
   },
   "file_extension": ".py",
   "mimetype": "text/x-python",
   "name": "python",
   "nbconvert_exporter": "python",
   "pygments_lexer": "ipython3",
   "version": "3.11.3"
  }
 },
 "nbformat": 4,
 "nbformat_minor": 5
}
